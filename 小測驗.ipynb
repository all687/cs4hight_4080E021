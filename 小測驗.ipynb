{
  "nbformat": 4,
  "nbformat_minor": 0,
  "metadata": {
    "colab": {
      "name": "小測驗.ipynb",
      "provenance": [],
      "collapsed_sections": [],
      "include_colab_link": true
    },
    "kernelspec": {
      "name": "python3",
      "display_name": "Python 3"
    }
  },
  "cells": [
    {
      "cell_type": "markdown",
      "metadata": {
        "id": "view-in-github",
        "colab_type": "text"
      },
      "source": [
        "<a href=\"https://colab.research.google.com/github/all687/cs4hight_4080E021/blob/master/%E5%B0%8F%E6%B8%AC%E9%A9%97.ipynb\" target=\"_parent\"><img src=\"https://colab.research.google.com/assets/colab-badge.svg\" alt=\"Open In Colab\"/></a>"
      ]
    },
    {
      "cell_type": "code",
      "metadata": {
        "id": "pNw4giDQsXF8",
        "colab_type": "code",
        "outputId": "64787e06-2ac6-4cd0-eac0-4bc86d900437",
        "colab": {
          "base_uri": "https://localhost:8080/",
          "height": 85
        }
      },
      "source": [
        "print(\"hello!\")\n",
        "print(3*2*(17-2.1))\n",
        "print(\"abc\"+\"def\")\n",
        "word = \"art\"\n",
        "print(word.replace(\"r\", \"n\"))"
      ],
      "execution_count": 0,
      "outputs": [
        {
          "output_type": "stream",
          "text": [
            "hello!\n",
            "89.4\n",
            "abcdef\n",
            "ant\n"
          ],
          "name": "stdout"
        }
      ]
    },
    {
      "cell_type": "code",
      "metadata": {
        "id": "I9hZqo3aujt2",
        "colab_type": "code",
        "colab": {
          "base_uri": "https://localhost:8080/",
          "height": 52
        },
        "outputId": "debc5d1a-89a4-48f1-82f9-fd2c69063602"
      },
      "source": [
        "a= 1\n",
        "b= 2\n",
        "c = a/b\n",
        "print(a, \"/\", b, \"=\", c) \n",
        "add = str(a)+\"/\"+str(b)+\"=\"+str(c)\n",
        "print(add)"
      ],
      "execution_count": 7,
      "outputs": [
        {
          "output_type": "stream",
          "text": [
            "1 / 2 = 0.5\n",
            "1/2=0.5\n"
          ],
          "name": "stdout"
        }
      ]
    },
    {
      "cell_type": "code",
      "metadata": {
        "id": "XE1AnvUDulml",
        "colab_type": "code",
        "colab": {
          "base_uri": "https://localhost:8080/",
          "height": 52
        },
        "outputId": "0c799824-5902-4e6a-8548-abdb939eafba"
      },
      "source": [
        "input(\"Where do you live? \")\n",
        "print(\"I live in Boston. \")"
      ],
      "execution_count": 6,
      "outputs": [
        {
          "output_type": "stream",
          "text": [
            "Where do you live? Boston\n",
            "I live in Boston. \n"
          ],
          "name": "stdout"
        }
      ]
    },
    {
      "cell_type": "code",
      "metadata": {
        "id": "WkH2HHdGuqhY",
        "colab_type": "code",
        "colab": {
          "base_uri": "https://localhost:8080/",
          "height": 69
        },
        "outputId": "c23c074f-6b99-45cb-88b5-3bc42e060576"
      },
      "source": [
        "user_place = input(\"Where do you live? \")\n",
        "text = user_place.capitalize()+ \"!\"\n",
        "print(text) \n",
        "print(\"I hear it's nice there!\") "
      ],
      "execution_count": 5,
      "outputs": [
        {
          "output_type": "stream",
          "text": [
            "Where do you live? Boston\n",
            "Boston!\n",
            "I hear it's nice there!\n"
          ],
          "name": "stdout"
        }
      ]
    },
    {
      "cell_type": "code",
      "metadata": {
        "id": "X72AYgBiu5h7",
        "colab_type": "code",
        "colab": {
          "base_uri": "https://localhost:8080/",
          "height": 69
        },
        "outputId": "283b106a-5d2e-4768-f802-09664c50545d"
      },
      "source": [
        "num = int(input (\"Enter a number to find the square of: \"))\n",
        "user_input = input(\"Enter a integer to find the square of: \")\n",
        "num = int(user_input) \n",
        "print(num*num)"
      ],
      "execution_count": 4,
      "outputs": [
        {
          "output_type": "stream",
          "text": [
            "Enter a number to find the square of: 1\n",
            "Enter a integer to find the square of: 2\n",
            "4\n"
          ],
          "name": "stdout"
        }
      ]
    },
    {
      "cell_type": "code",
      "metadata": {
        "id": "X8CKZ3O4u_hz",
        "colab_type": "code",
        "colab": {
          "base_uri": "https://localhost:8080/",
          "height": 69
        },
        "outputId": "7da19433-e713-4a27-8a2d-5359da938350"
      },
      "source": [
        "num1 = float(input(\"Enter a number: \"))\n",
        "num2 = float(input(\"Enter another number: \"))\n",
        "print(num1, \"*\", num2, \"=\", num1*num2)"
      ],
      "execution_count": 2,
      "outputs": [
        {
          "output_type": "stream",
          "text": [
            "Enter a number: 1\n",
            "Enter another number: 2\n",
            "1.0 * 2.0 = 2.0\n"
          ],
          "name": "stdout"
        }
      ]
    },
    {
      "cell_type": "code",
      "metadata": {
        "id": "IoEYPgtZ3U_N",
        "colab_type": "code",
        "colab": {
          "base_uri": "https://localhost:8080/",
          "height": 69
        },
        "outputId": "b1e4b48a-e856-4b4e-bcf2-a9681916e1f7"
      },
      "source": [
        "num = int(input(\"Enter a number: \"))\n",
        "if num > 0:\n",
        "    print(\"num is positive\")\n",
        "print(\"finished comparing num to 0\")"
      ],
      "execution_count": 1,
      "outputs": [
        {
          "output_type": "stream",
          "text": [
            "Enter a number: 1\n",
            "num is positive\n",
            "finished comparing num to 0\n"
          ],
          "name": "stdout"
        }
      ]
    },
    {
      "cell_type": "code",
      "metadata": {
        "id": "6RazlSda3Vad",
        "colab_type": "code",
        "colab": {
          "base_uri": "https://localhost:8080/",
          "height": 69
        },
        "outputId": "3e88a4b1-4fce-402a-c3ff-01fcd5491690"
      },
      "source": [
        "num_a = int(input(\"Pick a number: \"))   \n",
        "if num_a > 0:\n",
        "    print(\"Your number is positive\")   \n",
        "if num_a < 0:\n",
        "    print(\"Your number is negative \") \n",
        "if num_a == 0: \n",
        "    print(\"Your number is zero\")\n",
        "print(\"Finished!\")"
      ],
      "execution_count": 8,
      "outputs": [
        {
          "output_type": "stream",
          "text": [
            "Pick a number: 2\n",
            "Your number is positive\n",
            "Finished!\n"
          ],
          "name": "stdout"
        }
      ]
    },
    {
      "cell_type": "code",
      "metadata": {
        "id": "jBuqJ6a03V81",
        "colab_type": "code",
        "colab": {
          "base_uri": "https://localhost:8080/",
          "height": 69
        },
        "outputId": "0ec7e7c0-b4e2-42aa-b97c-00723384273f"
      },
      "source": [
        "num_a = int(input(\"Number? \"))\n",
        "num_b = int(input(\"Number? \"))\n",
        "if num_a < 0:\n",
        "   print(\"num_a is negative\") \n",
        "if num_b < 0:\n",
        "    print(\"num_b is negative\")\n",
        "print(\"Finished\")"
      ],
      "execution_count": 9,
      "outputs": [
        {
          "output_type": "stream",
          "text": [
            "Number? 3\n",
            "Number? 2\n",
            "Finished\n"
          ],
          "name": "stdout"
        }
      ]
    },
    {
      "cell_type": "code",
      "metadata": {
        "id": "FR0putQs3WPl",
        "colab_type": "code",
        "colab": {
          "base_uri": "https://localhost:8080/",
          "height": 69
        },
        "outputId": "32bc7ac8-5b26-4a0a-b1a7-6216c61e1271"
      },
      "source": [
        "num_a = int(input(\"Number? \"))\n",
        "num_b = int(input(\"Number? \"))\n",
        "if num_a < 0:      \n",
        "    print(\"num_a is negative\")\n",
        "    if num_b < 0:\n",
        "        print(\"num_b is negative\")\n",
        "print(\"Finished\")"
      ],
      "execution_count": 12,
      "outputs": [
        {
          "output_type": "stream",
          "text": [
            "Number? 1\n",
            "Number? 2\n",
            "Finished\n"
          ],
          "name": "stdout"
        }
      ]
    },
    {
      "cell_type": "code",
      "metadata": {
        "id": "zL0Tv1pWdt70",
        "colab_type": "code",
        "colab": {
          "base_uri": "https://localhost:8080/",
          "height": 69
        },
        "outputId": "c6eb63c3-f88f-4f1d-b84c-19b992f83d77"
      },
      "source": [
        "price = float(input(\"How much does a chocolate bar cost? \"))\n",
        "hungry = input(\"Are you hungry(yes or no)? \")\n",
        "\n",
        "bars = 0\n",
        "if hungry == \"yes\": \n",
        "    if price < 10:\n",
        "        print(\"Buy all chocolate bars.\")\n",
        "        bar = 100\n",
        "    if 10 <= price <= 50:\n",
        "        print(\"Buy 10 chocolate bars.\")     \n",
        "        bars = 10\n",
        "    if price > 50:\n",
        "        print(\"Buy only one chocolate bar.\")\n",
        "        bars = 1\n",
        "if hungry == \"no\":\n",
        "    print(\"Stick to the shopping list.\")\n",
        "if bars > 10:\n",
        "    print(\"Cashier says: someone's hungry!\")"
      ],
      "execution_count": 13,
      "outputs": [
        {
          "output_type": "stream",
          "text": [
            "How much does a chocolate bar cost? 80\n",
            "Are you hungry(yes or no)? yes\n",
            "Buy only one chocolate bar.\n"
          ],
          "name": "stdout"
        }
      ]
    },
    {
      "cell_type": "code",
      "metadata": {
        "id": "MQ5MenOcduV8",
        "colab_type": "code",
        "colab": {
          "base_uri": "https://localhost:8080/",
          "height": 52
        },
        "outputId": "535ad0e9-8ce2-4872-e487-9f4b911e259e"
      },
      "source": [
        "num_a = int(input(\"pick a number:\"))\n",
        "num_b = int(input(\"pick a number:\"))\n",
        "if num_a < 0 and num_b < 0: \n",
        "    print(\"both negative\")"
      ],
      "execution_count": 16,
      "outputs": [
        {
          "output_type": "stream",
          "text": [
            "pick a number:1\n",
            "pick a number:1\n"
          ],
          "name": "stdout"
        }
      ]
    },
    {
      "cell_type": "code",
      "metadata": {
        "id": "M1Vs86McefrO",
        "colab_type": "code",
        "colab": {
          "base_uri": "https://localhost:8080/",
          "height": 52
        },
        "outputId": "b6ce9313-3bad-4628-cbdd-a276e97a6885"
      },
      "source": [
        "Num=int(input(\"please pick a number: \"))\n",
        "if Num%2==0:\n",
        "    print(\"Even Number\")\n",
        "else:\n",
        "    print(\"Odd Number\")"
      ],
      "execution_count": 18,
      "outputs": [
        {
          "output_type": "stream",
          "text": [
            "please pick a number: 1\n",
            "Odd Number\n"
          ],
          "name": "stdout"
        }
      ]
    },
    {
      "cell_type": "code",
      "metadata": {
        "id": "lyFYhlhGerYs",
        "colab_type": "code",
        "colab": {
          "base_uri": "https://localhost:8080/",
          "height": 52
        },
        "outputId": "20569b5c-6f6b-412c-b62e-f57ad2442411"
      },
      "source": [
        "num = int(input(\"Enter a number: \"))\n",
        "if num > 0:\n",
        "    print(\"num is positive\")\n",
        "elif num < 0:\n",
        "    print(\"num is negative\")\n",
        "else:\n",
        "    print(\"num is zero\")"
      ],
      "execution_count": 22,
      "outputs": [
        {
          "output_type": "stream",
          "text": [
            "Enter a number: 0\n",
            "num is zero\n"
          ],
          "name": "stdout"
        }
      ]
    },
    {
      "cell_type": "code",
      "metadata": {
        "id": "A7evaxNVe21X",
        "colab_type": "code",
        "colab": {
          "base_uri": "https://localhost:8080/",
          "height": 86
        },
        "outputId": "6a277891-03c2-409e-b210-2ef04e0d9694"
      },
      "source": [
        "num_a = int(input(\"pick a number: \"))\n",
        "num_b = int(input(\"pick another number: \"))\n",
        "lucky_num = 7\n",
        "if num_a==num_b:\n",
        "    print(\"You enter the same number\")\n",
        "else:\n",
        "    if num_a > 0 and num_b > 0:\n",
        "        print(\"both numbers are positive\")\n",
        "    elif num_a < 0 and num_b < 0:\n",
        "        print(\"both numbers are negative\")\n",
        "    else:\n",
        "        print(\"numbers have opposite sign\")\n",
        "if num_a == lucky_num or num_b == lucky_num:\n",
        "    print(\"you also guessed my lucky number!\")\n",
        "else:\n",
        "    print(\"I have a secret number in mind...\")"
      ],
      "execution_count": 24,
      "outputs": [
        {
          "output_type": "stream",
          "text": [
            "pick a number: 3\n",
            "pick another number: 0\n",
            "numbers have opposite sign\n",
            "I have a secret number in mind...\n"
          ],
          "name": "stdout"
        }
      ]
    },
    {
      "cell_type": "code",
      "metadata": {
        "id": "80DML0jUfObL",
        "colab_type": "code",
        "colab": {
          "base_uri": "https://localhost:8080/",
          "height": 86
        },
        "outputId": "74461ce8-223b-4a2c-dc5a-ad465d163b8b"
      },
      "source": [
        "num_a = int(input(\"pick a number: \"))\n",
        "num_b = int(input(\"pick another number: \"))\n",
        "lucky_num = 7\n",
        "if num_a == num_b:\n",
        "    print(\"You enter the same number\")\n",
        "elif num_a > 0 and num_b > 0:\n",
        "    print(\"both numbers are positive\")\n",
        "elif num_a < 0 and num_b < 0:\n",
        "    print(\"both numbers are negative\")\n",
        "else:\n",
        "    print(\"numbers have opposite sign\")\n",
        "if num_a == lucky_num or num_b == lucky_num:\n",
        "    print(\"you also guessed my lucky number!\")\n",
        "else:\n",
        "    print(\"I have a secret number in mind...\")"
      ],
      "execution_count": 25,
      "outputs": [
        {
          "output_type": "stream",
          "text": [
            "pick a number: 2\n",
            "pick another number: 1\n",
            "both numbers are positive\n",
            "I have a secret number in mind...\n"
          ],
          "name": "stdout"
        }
      ]
    },
    {
      "cell_type": "code",
      "metadata": {
        "id": "VS7Rep-GffI9",
        "colab_type": "code",
        "colab": {
          "base_uri": "https://localhost:8080/",
          "height": 86
        },
        "outputId": "bc53288e-b14d-4f12-d586-42cd52c8ebb2"
      },
      "source": [
        "greeting = input(\"Say hi in English or Spanish! \")\n",
        "greet_en =(\"hi\", \"Hi\", \"hello\", \"Hello\")\n",
        "greet_sp =(\"hola\", \"Hola\")\n",
        "if greeting not in greet_en and greeting not in greet_sp:\n",
        "    print(\"I don't understand your greeting.\")\n",
        "elif greeting in greet_en:\n",
        "  num = int(input(\"Enter 1 or 2: \"))\n",
        "  print(\"You speak English!\")\n",
        "  if num == 1:\n",
        "      print(\"one\")\n",
        "  elif num == 2:\n",
        "      print(\"two\")\n",
        "elif greeting in greet_sp:\n",
        "    num = int(input(\"Enter 1 or 2: \"))\n",
        "    print(\"You speak Spanish!\")\n",
        "    if num == 1:\n",
        "        print(\"uno\")\n",
        "    elif num == 2:\n",
        "        print(\"dos\")"
      ],
      "execution_count": 26,
      "outputs": [
        {
          "output_type": "stream",
          "text": [
            "Say hi in English or Spanish! Hi\n",
            "Enter 1 or 2: 2\n",
            "You speak English!\n",
            "two\n"
          ],
          "name": "stdout"
        }
      ]
    },
    {
      "cell_type": "code",
      "metadata": {
        "id": "JzptjKbPfpis",
        "colab_type": "code",
        "colab": {
          "base_uri": "https://localhost:8080/",
          "height": 86
        },
        "outputId": "e94a7ab2-c87e-461c-b89e-807e379aa777"
      },
      "source": [
        "s = input(\" 請輸入顯示內容 : \")\n",
        "n = int(input(\" 請輸入顯示次數 : \"))\n",
        "while n > 0:\n",
        "    print(s)\n",
        "    n = n-1"
      ],
      "execution_count": 27,
      "outputs": [
        {
          "output_type": "stream",
          "text": [
            " 請輸入顯示內容 : 1\n",
            " 請輸入顯示次數 : 2\n",
            "1\n",
            "1\n"
          ],
          "name": "stdout"
        }
      ]
    },
    {
      "cell_type": "code",
      "metadata": {
        "id": "NZZdf6R_fyS4",
        "colab_type": "code",
        "colab": {
          "base_uri": "https://localhost:8080/",
          "height": 52
        },
        "outputId": "575a2e4e-a7b8-40b3-e255-ea19537d99cb"
      },
      "source": [
        "lucky_num = 77\n",
        "guess = int(input(\"Guess a Number(0-99): \"))\n",
        "tries = 1\n",
        "while guess != lucky_num:\n",
        "    print(\"You tried to guess\", tries, \"times\")\n",
        "    guess = int(input(\"Guess again: \"))\n",
        "    tries += 1\n",
        "print(\"You got it!\")"
      ],
      "execution_count": 28,
      "outputs": [
        {
          "output_type": "stream",
          "text": [
            "Guess a Number(0-99): 77\n",
            "You got it!\n"
          ],
          "name": "stdout"
        }
      ]
    },
    {
      "cell_type": "code",
      "metadata": {
        "id": "8oNndlIYf8GH",
        "colab_type": "code",
        "colab": {}
      },
      "source": [
        "secret = \"code\"\n",
        "max_tries = 100\n",
        "guess = input(\"Guess a word: \")\n",
        "tries = 1\n",
        "while guess != secret:\n",
        "    print(\"You tried to guess\", tries, \"times\")\n",
        "    if tries == max_tries:\n",
        "        print(\"You ran out of tries.\")\n",
        "        break\n",
        "    guess = input(\"Guess again: \")\n",
        "    tries += 1\n",
        "if tries <= max_tries and guess == secret:\n",
        "    print(\"You got it!\")"
      ],
      "execution_count": 0,
      "outputs": []
    },
    {
      "cell_type": "code",
      "metadata": {
        "id": "bnHEbj1igGFa",
        "colab_type": "code",
        "colab": {
          "base_uri": "https://localhost:8080/",
          "height": 34
        },
        "outputId": "69ab1908-a7b2-4c8c-b651-1c8865bdb64b"
      },
      "source": [
        "i= 1\n",
        "while(i < 10):\n",
        "    if i == 5:\n",
        "        i += 1\n",
        "        continue\n",
        "    print(i, end=' ')\n",
        "    i += 1\n",
        "print(\"End\")"
      ],
      "execution_count": 31,
      "outputs": [
        {
          "output_type": "stream",
          "text": [
            "1 2 3 4 6 7 8 9 End\n"
          ],
          "name": "stdout"
        }
      ]
    },
    {
      "cell_type": "code",
      "metadata": {
        "id": "z8_nrIKngt3c",
        "colab_type": "code",
        "colab": {
          "base_uri": "https://localhost:8080/",
          "height": 86
        },
        "outputId": "d99b557f-63a3-4d0a-bddb-022364a01222"
      },
      "source": [
        "#s = \"\" \n",
        "while s != \"喵喵\":\n",
        "    if s != \"\":\n",
        "        print(\" 不對喔!\")\n",
        "    s = input(\" 請輸入通關密語:\")\n",
        "    if s == \"out\":\n",
        "        break\n",
        "else: \n",
        "    print(\" 恭喜你過關了 \")\n",
        "print(\" 再見!\")"
      ],
      "execution_count": 33,
      "outputs": [
        {
          "output_type": "stream",
          "text": [
            " 不對喔!\n",
            " 請輸入通關密語:喵喵\n",
            " 恭喜你過關了 \n",
            " 再見!\n"
          ],
          "name": "stdout"
        }
      ]
    },
    {
      "cell_type": "code",
      "metadata": {
        "id": "Ia_J07TBg7tB",
        "colab_type": "code",
        "colab": {
          "base_uri": "https://localhost:8080/",
          "height": 191
        },
        "outputId": "0954d178-acd3-4511-ae68-91b50d1a313c"
      },
      "source": [
        "print(\"Hello Python\")\n",
        "print(\"Hello Python\")\n",
        "print(\"Hello Python\")\n",
        "print(\"Hello Python\")\n",
        "print(\"Hello Python\")\n",
        "print(\"Hello Python\")\n",
        "print(\"Hello Python\")\n",
        "print(\"Hello Python\")\n",
        "print(\"Hello Python\")\n",
        "print(\"Hello Python\")"
      ],
      "execution_count": 34,
      "outputs": [
        {
          "output_type": "stream",
          "text": [
            "Hello Python\n",
            "Hello Python\n",
            "Hello Python\n",
            "Hello Python\n",
            "Hello Python\n",
            "Hello Python\n",
            "Hello Python\n",
            "Hello Python\n",
            "Hello Python\n",
            "Hello Python\n"
          ],
          "name": "stdout"
        }
      ]
    },
    {
      "cell_type": "code",
      "metadata": {
        "id": "SdFDoWPghEFI",
        "colab_type": "code",
        "colab": {
          "base_uri": "https://localhost:8080/",
          "height": 191
        },
        "outputId": "d112ae45-82e8-4b14-d023-e4104e06bfcd"
      },
      "source": [
        "for i in range(10):\n",
        "    print(\"Hello Python\")"
      ],
      "execution_count": 35,
      "outputs": [
        {
          "output_type": "stream",
          "text": [
            "Hello Python\n",
            "Hello Python\n",
            "Hello Python\n",
            "Hello Python\n",
            "Hello Python\n",
            "Hello Python\n",
            "Hello Python\n",
            "Hello Python\n",
            "Hello Python\n",
            "Hello Python\n"
          ],
          "name": "stdout"
        }
      ]
    },
    {
      "cell_type": "code",
      "metadata": {
        "id": "i4si7TK0hIvQ",
        "colab_type": "code",
        "colab": {
          "base_uri": "https://localhost:8080/",
          "height": 52
        },
        "outputId": "8168e025-0e80-4ab4-e205-f42e18629743"
      },
      "source": [
        "for i in range(10, 1, -1):\n",
        "    print(i, end=\" \")\n",
        "print()\n",
        "for i in range(0, 9, 2): \n",
        "    print(i, end=\" \") "
      ],
      "execution_count": 36,
      "outputs": [
        {
          "output_type": "stream",
          "text": [
            "10 9 8 7 6 5 4 3 2 \n",
            "0 2 4 6 8 "
          ],
          "name": "stdout"
        }
      ]
    },
    {
      "cell_type": "code",
      "metadata": {
        "id": "dDlnycW_hOhh",
        "colab_type": "code",
        "colab": {
          "base_uri": "https://localhost:8080/",
          "height": 173
        },
        "outputId": "390bfd34-2b4d-4270-8627-d3229c46d129"
      },
      "source": [
        "for i in range(1, 10):\n",
        "    for j in range(1, 10):\n",
        "        print(j, \"x\", i, \"=\", j*i, end=' ')\n",
        "    print()"
      ],
      "execution_count": 37,
      "outputs": [
        {
          "output_type": "stream",
          "text": [
            "1 x 1 = 1 2 x 1 = 2 3 x 1 = 3 4 x 1 = 4 5 x 1 = 5 6 x 1 = 6 7 x 1 = 7 8 x 1 = 8 9 x 1 = 9 \n",
            "1 x 2 = 2 2 x 2 = 4 3 x 2 = 6 4 x 2 = 8 5 x 2 = 10 6 x 2 = 12 7 x 2 = 14 8 x 2 = 16 9 x 2 = 18 \n",
            "1 x 3 = 3 2 x 3 = 6 3 x 3 = 9 4 x 3 = 12 5 x 3 = 15 6 x 3 = 18 7 x 3 = 21 8 x 3 = 24 9 x 3 = 27 \n",
            "1 x 4 = 4 2 x 4 = 8 3 x 4 = 12 4 x 4 = 16 5 x 4 = 20 6 x 4 = 24 7 x 4 = 28 8 x 4 = 32 9 x 4 = 36 \n",
            "1 x 5 = 5 2 x 5 = 10 3 x 5 = 15 4 x 5 = 20 5 x 5 = 25 6 x 5 = 30 7 x 5 = 35 8 x 5 = 40 9 x 5 = 45 \n",
            "1 x 6 = 6 2 x 6 = 12 3 x 6 = 18 4 x 6 = 24 5 x 6 = 30 6 x 6 = 36 7 x 6 = 42 8 x 6 = 48 9 x 6 = 54 \n",
            "1 x 7 = 7 2 x 7 = 14 3 x 7 = 21 4 x 7 = 28 5 x 7 = 35 6 x 7 = 42 7 x 7 = 49 8 x 7 = 56 9 x 7 = 63 \n",
            "1 x 8 = 8 2 x 8 = 16 3 x 8 = 24 4 x 8 = 32 5 x 8 = 40 6 x 8 = 48 7 x 8 = 56 8 x 8 = 64 9 x 8 = 72 \n",
            "1 x 9 = 9 2 x 9 = 18 3 x 9 = 27 4 x 9 = 36 5 x 9 = 45 6 x 9 = 54 7 x 9 = 63 8 x 9 = 72 9 x 9 = 81 \n"
          ],
          "name": "stdout"
        }
      ]
    },
    {
      "cell_type": "code",
      "metadata": {
        "id": "mW7yqC4chQzM",
        "colab_type": "code",
        "colab": {
          "base_uri": "https://localhost:8080/",
          "height": 34
        },
        "outputId": "cfb29eb8-0c03-4935-9dc3-45dd1ba58353"
      },
      "source": [
        "for i in range(1, 20):\n",
        "    if i == 5:\n",
        "        continue\n",
        "    print(i, end=\" \")\n",
        "    if i == 10:\n",
        "        break\n",
        "print(\"END\")"
      ],
      "execution_count": 38,
      "outputs": [
        {
          "output_type": "stream",
          "text": [
            "1 2 3 4 6 7 8 9 10 END\n"
          ],
          "name": "stdout"
        }
      ]
    },
    {
      "cell_type": "code",
      "metadata": {
        "id": "bdKDwRhPhTkJ",
        "colab_type": "code",
        "colab": {
          "base_uri": "https://localhost:8080/",
          "height": 347
        },
        "outputId": "a7780348-856d-4f78-bb5f-7fc87b707b7f"
      },
      "source": [
        "num = int(input(\"Please specify the range(0~N): \"))\n",
        "for i in range(2, num+1):   \n",
        "    for j in range(2, i):\n",
        "        if(i%j == 0): \n",
        "            break \n",
        "    else: \n",
        "        print(i)"
      ],
      "execution_count": 39,
      "outputs": [
        {
          "output_type": "stream",
          "text": [
            "Please specify the range(0~N): 66\n",
            "2\n",
            "3\n",
            "5\n",
            "7\n",
            "11\n",
            "13\n",
            "17\n",
            "19\n",
            "23\n",
            "29\n",
            "31\n",
            "37\n",
            "41\n",
            "43\n",
            "47\n",
            "53\n",
            "59\n",
            "61\n"
          ],
          "name": "stdout"
        }
      ]
    },
    {
      "cell_type": "code",
      "metadata": {
        "id": "UNufEueQhXiA",
        "colab_type": "code",
        "colab": {
          "base_uri": "https://localhost:8080/",
          "height": 260
        },
        "outputId": "142f0eb5-d93e-49e5-beaa-446c7525d18c"
      },
      "source": [
        "for ch in \"Python is fun!\":\n",
        "    print(\"the character is\", ch)"
      ],
      "execution_count": 40,
      "outputs": [
        {
          "output_type": "stream",
          "text": [
            "the character is P\n",
            "the character is y\n",
            "the character is t\n",
            "the character is h\n",
            "the character is o\n",
            "the character is n\n",
            "the character is  \n",
            "the character is i\n",
            "the character is s\n",
            "the character is  \n",
            "the character is f\n",
            "the character is u\n",
            "the character is n\n",
            "the character is !\n"
          ],
          "name": "stdout"
        }
      ]
    },
    {
      "cell_type": "code",
      "metadata": {
        "id": "Y4_fnFQghgRR",
        "colab_type": "code",
        "colab": {
          "base_uri": "https://localhost:8080/",
          "height": 260
        },
        "outputId": "c94067d2-ff77-46db-804f-57a402399d26"
      },
      "source": [
        "my_string = \"Python is fun!\"\n",
        "len_s = len(my_string)\n",
        "for i in range(len_s):\n",
        "    print(\"the character is\", my_string[i])"
      ],
      "execution_count": 41,
      "outputs": [
        {
          "output_type": "stream",
          "text": [
            "the character is P\n",
            "the character is y\n",
            "the character is t\n",
            "the character is h\n",
            "the character is o\n",
            "the character is n\n",
            "the character is  \n",
            "the character is i\n",
            "the character is s\n",
            "the character is  \n",
            "the character is f\n",
            "the character is u\n",
            "the character is n\n",
            "the character is !\n"
          ],
          "name": "stdout"
        }
      ]
    },
    {
      "cell_type": "code",
      "metadata": {
        "id": "eZoK_fu4hlcP",
        "colab_type": "code",
        "colab": {
          "base_uri": "https://localhost:8080/",
          "height": 86
        },
        "outputId": "d03cb99a-b520-4f37-d780-056857864287"
      },
      "source": [
        "winners =(\"Peter\", \"Mark\", \"Joy\")\n",
        "print(\" 恭喜以下得獎人:\")\n",
        "for name in winners:\n",
        "    print(name)"
      ],
      "execution_count": 42,
      "outputs": [
        {
          "output_type": "stream",
          "text": [
            " 恭喜以下得獎人:\n",
            "Peter\n",
            "Mark\n",
            "Joy\n"
          ],
          "name": "stdout"
        }
      ]
    },
    {
      "cell_type": "code",
      "metadata": {
        "id": "5Sm7GqfAhpJ-",
        "colab_type": "code",
        "colab": {
          "base_uri": "https://localhost:8080/",
          "height": 86
        },
        "outputId": "a954db7a-adc3-48a9-e007-2ab7a94363ba"
      },
      "source": [
        "prizes =(\" 頭獎 \", \" 二獎 \", \" 三獎 \")\n",
        "winners =(\"Peter\", \"Mark\", \"Joy\")\n",
        "print(\" 恭喜以下得獎人:\")\n",
        "for i in range(3):\n",
        "    print(prizes[i]+ \":\" + winners[i])"
      ],
      "execution_count": 43,
      "outputs": [
        {
          "output_type": "stream",
          "text": [
            " 恭喜以下得獎人:\n",
            " 頭獎 :Peter\n",
            " 二獎 :Mark\n",
            " 三獎 :Joy\n"
          ],
          "name": "stdout"
        }
      ]
    },
    {
      "cell_type": "code",
      "metadata": {
        "id": "IlrJDTgAhr5d",
        "colab_type": "code",
        "colab": {
          "base_uri": "https://localhost:8080/",
          "height": 86
        },
        "outputId": "74769e19-de23-421a-f04f-03979ec7eaf3"
      },
      "source": [
        "winners =((\" 頭獎 \", \"Peter\"),(\" 二獎 \", \"Mark\"),(\" 三獎 \", \"Joy\"))\n",
        "print(\" 恭喜以下得獎人:\")\n",
        "for e in winners: \n",
        "    print(e[0]+ \":\" + e[1])"
      ],
      "execution_count": 44,
      "outputs": [
        {
          "output_type": "stream",
          "text": [
            " 恭喜以下得獎人:\n",
            " 頭獎 :Peter\n",
            " 二獎 :Mark\n",
            " 三獎 :Joy\n"
          ],
          "name": "stdout"
        }
      ]
    },
    {
      "cell_type": "code",
      "metadata": {
        "id": "k3UovzUPhv4I",
        "colab_type": "code",
        "colab": {
          "base_uri": "https://localhost:8080/",
          "height": 86
        },
        "outputId": "3da11fea-215e-4139-bdc6-0af5eace60c2"
      },
      "source": [
        "winners =((\" 頭獎 \", \"Peter\"),(\" 二獎 \", \"Mark\"),(\" 三獎 \", \"Joy\"))\n",
        "print(\" 恭喜以下獎人:\")\n",
        "for prize, winner in winners:\n",
        "    print(prize+ \":\" + winner) "
      ],
      "execution_count": 45,
      "outputs": [
        {
          "output_type": "stream",
          "text": [
            " 恭喜以下獎人:\n",
            " 頭獎 :Peter\n",
            " 二獎 :Mark\n",
            " 三獎 :Joy\n"
          ],
          "name": "stdout"
        }
      ]
    },
    {
      "cell_type": "code",
      "metadata": {
        "id": "7bZKhJ8RhypB",
        "colab_type": "code",
        "colab": {
          "base_uri": "https://localhost:8080/",
          "height": 69
        },
        "outputId": "fbba926a-fac3-470a-a276-04b9ecda7cd9"
      },
      "source": [
        "for x in range(3):\n",
        "    print(\"var x is\", x)"
      ],
      "execution_count": 46,
      "outputs": [
        {
          "output_type": "stream",
          "text": [
            "var x is 0\n",
            "var x is 1\n",
            "var x is 2\n"
          ],
          "name": "stdout"
        }
      ]
    },
    {
      "cell_type": "code",
      "metadata": {
        "id": "pF0Nnhp4h1Yt",
        "colab_type": "code",
        "colab": {
          "base_uri": "https://localhost:8080/",
          "height": 69
        },
        "outputId": "a5b2609e-7b7a-4b21-dee8-27e3dcb0a7be"
      },
      "source": [
        " x = 0\n",
        "while x < 3:\n",
        "    print(\"var x is\", x)\n",
        "    x += 1"
      ],
      "execution_count": 47,
      "outputs": [
        {
          "output_type": "stream",
          "text": [
            "var x is 0\n",
            "var x is 1\n",
            "var x is 2\n"
          ],
          "name": "stdout"
        }
      ]
    },
    {
      "cell_type": "code",
      "metadata": {
        "id": "fKH5dpsjh-GQ",
        "colab_type": "code",
        "colab": {}
      },
      "source": [
        "words = \"\"\"art\n",
        "hue\n",
        "ink\n",
        "...\n",
        "crosshatching\n",
        "\"\"\"\n",
        "tiles = \"hijklmnop\"\n",
        "all_valid_words =()\n",
        "start = 0\n",
        "end = 0\n",
        "found_words =()   "
      ],
      "execution_count": 0,
      "outputs": []
    },
    {
      "cell_type": "code",
      "metadata": {
        "id": "PzdOY7TsiA64",
        "colab_type": "code",
        "colab": {}
      },
      "source": [
        "words = \"\"\"art hue\n",
        "ink\n",
        "...\n",
        "crosshatching\n",
        "\"\"\"\n",
        "tiles = \"hijklmnop\"\n",
        "all_valid_words =()\n",
        "start = 0\n",
        "end = 0\n",
        "found_words =() \n",
        "\n",
        "for char in words:\n",
        "    if char == \"\\n\":\n",
        "        all_valid_words = all_valid_words +(words[start:end], )\n",
        "        start = end + 1\n",
        "        end = end +1\n",
        "    else:\n",
        "        end = end + 1 "
      ],
      "execution_count": 0,
      "outputs": []
    },
    {
      "cell_type": "code",
      "metadata": {
        "id": "-uGPIwMNiIkT",
        "colab_type": "code",
        "colab": {
          "base_uri": "https://localhost:8080/",
          "height": 34
        },
        "outputId": "2635dc9f-3056-4c03-b1e0-fcbc7c9dbf89"
      },
      "source": [
        "words = \"\"\"art hue\n",
        "ink\n",
        "...\n",
        "crosshatching\n",
        "\"\"\"\n",
        "tiles = \"hijklmnop\"\n",
        "all_valid_words =()\n",
        "start = 0\n",
        "end = 0\n",
        "found_words =() \n",
        "\n",
        "for char in words:\n",
        "    if char == \"\\n\":\n",
        "        all_valid_words = all_valid_words +(words[start:end], )\n",
        "        start = end + 1\n",
        "        end = end +1\n",
        "    else:\n",
        "        end = end + 1\n",
        "\n",
        "for word in all_valid_words:\n",
        "    tiles_left = tiles\n",
        "for letter in word:\n",
        "    if letter not in tiles_left:\n",
        "        break\n",
        "    else:\n",
        "        index = tiles_left.find(letter)\n",
        "        tiles_left = tiles_left[:index]+tiles_left[index+1:]\n",
        "    if len(word)== len(tiles)-len(tiles_left):\n",
        "        found_words = found_words +(word, )\n",
        "print(found_words)"
      ],
      "execution_count": 52,
      "outputs": [
        {
          "output_type": "stream",
          "text": [
            "()\n"
          ],
          "name": "stdout"
        }
      ]
    },
    {
      "cell_type": "code",
      "metadata": {
        "id": "oHqGnPbUiMqG",
        "colab_type": "code",
        "colab": {
          "base_uri": "https://localhost:8080/",
          "height": 86
        },
        "outputId": "ab67c21e-6336-44f7-950e-9c88cfb8b743"
      },
      "source": [
        "a= 1\n",
        "b= 2\n",
        "print(a+b)\n",
        "print(a-b)\n",
        "print(a*b)\n",
        "print(a/b)"
      ],
      "execution_count": 54,
      "outputs": [
        {
          "output_type": "stream",
          "text": [
            "3\n",
            "-1\n",
            "2\n",
            "0.5\n"
          ],
          "name": "stdout"
        }
      ]
    },
    {
      "cell_type": "code",
      "metadata": {
        "id": "rE5jydM2iPnV",
        "colab_type": "code",
        "colab": {
          "base_uri": "https://localhost:8080/",
          "height": 225
        },
        "outputId": "7d80927c-f82d-4b1f-eeed-30878184b2b1"
      },
      "source": [
        "a= 1\n",
        "b= 2\n",
        "print(a+b)\n",
        "print(a-b)\n",
        "print(a*b)\n",
        "print(a/b)\n",
        "a= 3\n",
        "b= 4\n",
        "print(a+b)\n",
        "print(a-b)\n",
        "print(a*b)\n",
        "print(a/b)\n",
        "a= 5\n",
        "b= 6\n",
        "print(a+b)\n",
        "print(a-b)\n",
        "print(a*b)\n",
        "print(a/b)"
      ],
      "execution_count": 55,
      "outputs": [
        {
          "output_type": "stream",
          "text": [
            "3\n",
            "-1\n",
            "2\n",
            "0.5\n",
            "7\n",
            "-1\n",
            "12\n",
            "0.75\n",
            "11\n",
            "-1\n",
            "30\n",
            "0.8333333333333334\n"
          ],
          "name": "stdout"
        }
      ]
    },
    {
      "cell_type": "code",
      "metadata": {
        "id": "-tXuMU7oiTQr",
        "colab_type": "code",
        "colab": {}
      },
      "source": [
        "def take_attendance(classroom, who_is_here):\n",
        "    \"\"\"\n",
        "    classroom, tuple\n",
        "    who_is_here, tuple\n",
        "    Checks if every item in classroom is in who_is_here\n",
        "    And prints their name if so.\n",
        "    Returns \"finished taking attendance\"\n",
        "    \"\"\"\n",
        "    for kid in classroom:\n",
        "        if kid in who_is_here:\n",
        "            print(kid)   \n",
        "    return \"finished taking attendance\""
      ],
      "execution_count": 0,
      "outputs": []
    },
    {
      "cell_type": "code",
      "metadata": {
        "id": "4eMXRWh-iiuq",
        "colab_type": "code",
        "colab": {
          "base_uri": "https://localhost:8080/",
          "height": 52
        },
        "outputId": "10821e7a-109b-44e8-83a5-d22edd4c2884"
      },
      "source": [
        "def hello():\n",
        "    print('Hello!')\n",
        "\n",
        "hello()\n",
        "def sayHi(name, title):\n",
        "    print(name + title +' 你好!')\n",
        "sayHi(' 王小明 ', ' 同學 ')"
      ],
      "execution_count": 57,
      "outputs": [
        {
          "output_type": "stream",
          "text": [
            "Hello!\n",
            " 王小明  同學  你好!\n"
          ],
          "name": "stdout"
        }
      ]
    },
    {
      "cell_type": "code",
      "metadata": {
        "id": "w4LTvtKKinAI",
        "colab_type": "code",
        "colab": {
          "base_uri": "https://localhost:8080/",
          "height": 69
        },
        "outputId": "c89a0bc7-6b7a-46cd-977c-eb82a2b60af3"
      },
      "source": [
        "sayHi('王小明', title='同學')\n",
        "sayHi(title='同學', name='王小明')\n",
        "sayHi(title='同學',name='王小明')"
      ],
      "execution_count": 70,
      "outputs": [
        {
          "output_type": "stream",
          "text": [
            "王小明同學 你好!\n",
            "王小明同學 你好!\n",
            "王小明同學 你好!\n"
          ],
          "name": "stdout"
        }
      ]
    },
    {
      "cell_type": "code",
      "metadata": {
        "id": "yLqCSY9rjd4V",
        "colab_type": "code",
        "colab": {}
      },
      "source": [
        "def get_word_length(word1, word2): \n",
        "    word = word1+word2  \n",
        "    return len(word) \n",
        "    print(\"this never gets printed\") "
      ],
      "execution_count": 0,
      "outputs": []
    },
    {
      "cell_type": "code",
      "metadata": {
        "id": "WbQoMmi5jl7l",
        "colab_type": "code",
        "colab": {
          "base_uri": "https://localhost:8080/",
          "height": 69
        },
        "outputId": "a55837c7-7f26-43a0-8f2f-cf038dff0ac4"
      },
      "source": [
        "def word_length(word1, word2):\n",
        "    word = word1+word2\n",
        "    return len(word)\n",
        "    print(\"this never gets printed\")\n",
        "    \n",
        "length1 = word_length(\"Rob\", \"Banks\")\n",
        "length2 = word_length(\"Barbie\", \"Kenn\")\n",
        "length3 = word_length(\"Holly\", \"Jolley\")\n",
        "\n",
        "print(\"One name is\", length1, \"letters long.\")\n",
        "print(\"Another name is\", length2, \"letters long.\")\n",
        "print(\"The final name is\", length3, \"letters long.\")"
      ],
      "execution_count": 73,
      "outputs": [
        {
          "output_type": "stream",
          "text": [
            "One name is 8 letters long.\n",
            "Another name is 10 letters long.\n",
            "The final name is 11 letters long.\n"
          ],
          "name": "stdout"
        }
      ]
    },
    {
      "cell_type": "code",
      "metadata": {
        "id": "9kc3JKF3josc",
        "colab_type": "code",
        "colab": {}
      },
      "source": [
        "def add_sub(n1, n2):\n",
        "    add = n1 + n2\n",
        "    sub = n1 - n2\n",
        "    return(add, sub)\n",
        "(a,b)= add_sub(3,4)"
      ],
      "execution_count": 0,
      "outputs": []
    },
    {
      "cell_type": "code",
      "metadata": {
        "id": "NRwbO4Dhj7cP",
        "colab_type": "code",
        "colab": {
          "base_uri": "https://localhost:8080/",
          "height": 86
        },
        "outputId": "e27e3e2e-25ea-421f-b577-7f674f932945"
      },
      "source": [
        "def say_name(kid):\n",
        "    print(kid)\n",
        "def show_kid(kid):\n",
        "    return kid\n",
        "say_name(\"Dora\")\n",
        "show_kid(\"Ellie\")\n",
        "print(say_name(\"Frank\"))\n",
        "print(show_kid(\"Gus\"))"
      ],
      "execution_count": 75,
      "outputs": [
        {
          "output_type": "stream",
          "text": [
            "Dora\n",
            "Frank\n",
            "None\n",
            "Gus\n"
          ],
          "name": "stdout"
        }
      ]
    },
    {
      "cell_type": "code",
      "metadata": {
        "id": "ecpuJjhlkX1s",
        "colab_type": "code",
        "colab": {
          "base_uri": "https://localhost:8080/",
          "height": 156
        },
        "outputId": "6c210541-8969-4b9b-bd74-25e6024a0f1b"
      },
      "source": [
        "def take_attendance(classroom, who_is_here):\n",
        "    \"\"\"\n",
        "    classroom, tuple of strings\n",
        "    who_is_here, tuple of strings\n",
        "    Prints the names of all kids in class who are also in who_is_here\n",
        "    Returns a string, \"finished taking attendance\"\n",
        "    \"\"\"\n",
        "    for kid in classroom:\n",
        "        if kid in who_is_here:\n",
        "            print(kid)\n",
        "    return \"finished taking attendance\"\n",
        "help(take_attendance)"
      ],
      "execution_count": 80,
      "outputs": [
        {
          "output_type": "stream",
          "text": [
            "Help on function take_attendance in module __main__:\n",
            "\n",
            "take_attendance(classroom, who_is_here)\n",
            "    classroom, tuple of strings\n",
            "    who_is_here, tuple of strings\n",
            "    Prints the names of all kids in class who are also in who_is_here\n",
            "    Returns a string, \"finished taking attendance\"\n",
            "\n"
          ],
          "name": "stdout"
        }
      ]
    },
    {
      "cell_type": "code",
      "metadata": {
        "id": "3iXbLJBgkczA",
        "colab_type": "code",
        "colab": {
          "base_uri": "https://localhost:8080/",
          "height": 52
        },
        "outputId": "99415926-e927-4c04-ed18-15fab05b0dc3"
      },
      "source": [
        "def fairy_tale():   \n",
        "    peter = 5\n",
        "    print(peter)   \n",
        "peter = 30\n",
        "fairy_tale()\n",
        "print(peter)"
      ],
      "execution_count": 81,
      "outputs": [
        {
          "output_type": "stream",
          "text": [
            "5\n",
            "30\n"
          ],
          "name": "stdout"
        }
      ]
    },
    {
      "cell_type": "code",
      "metadata": {
        "id": "tNJQr8i6kfFt",
        "colab_type": "code",
        "colab": {
          "base_uri": "https://localhost:8080/",
          "height": 34
        },
        "outputId": "5af5324c-4198-4b5f-da5e-b6611e26fc59"
      },
      "source": [
        "def e():\n",
        "    v = 5\n",
        "    print(v)   \n",
        "v= 1\n",
        "e()"
      ],
      "execution_count": 82,
      "outputs": [
        {
          "output_type": "stream",
          "text": [
            "5\n"
          ],
          "name": "stdout"
        }
      ]
    },
    {
      "cell_type": "code",
      "metadata": {
        "id": "qlfDbHk_kg-4",
        "colab_type": "code",
        "colab": {
          "base_uri": "https://localhost:8080/",
          "height": 34
        },
        "outputId": "ac7d525a-9b19-4c28-b715-5a18e8f38cc4"
      },
      "source": [
        "def f():\n",
        "    print(v)\n",
        "v= 1\n",
        "f()"
      ],
      "execution_count": 83,
      "outputs": [
        {
          "output_type": "stream",
          "text": [
            "1\n"
          ],
          "name": "stdout"
        }
      ]
    },
    {
      "cell_type": "code",
      "metadata": {
        "id": "9XiPOsz5kle5",
        "colab_type": "code",
        "colab": {
          "base_uri": "https://localhost:8080/",
          "height": 34
        },
        "outputId": "85a2799a-716f-4ec7-cfa3-d5b66c3aa262"
      },
      "source": [
        "def g():\n",
        "    print(v+x)  \n",
        "v= 1\n",
        "x= 2\n",
        "g()"
      ],
      "execution_count": 84,
      "outputs": [
        {
          "output_type": "stream",
          "text": [
            "3\n"
          ],
          "name": "stdout"
        }
      ]
    },
    {
      "cell_type": "code",
      "metadata": {
        "id": "ZjSkc7LgkmuR",
        "colab_type": "code",
        "colab": {}
      },
      "source": [
        "def h():\n",
        "  v+= 5   \n",
        "v= 1\n",
        "h()"
      ],
      "execution_count": 0,
      "outputs": []
    },
    {
      "cell_type": "code",
      "metadata": {
        "id": "979Ai8IVlpUD",
        "colab_type": "code",
        "colab": {
          "base_uri": "https://localhost:8080/",
          "height": 52
        },
        "outputId": "7ea8d10f-2b2c-48eb-acf0-c0db8cd8e235"
      },
      "source": [
        "def odd_or_even(num):\n",
        "    num = num%2\n",
        "    if num == 1:\n",
        "        return \"odd\"\n",
        "    else:\n",
        "        return \"even\"\n",
        "num = 4 \n",
        "print(odd_or_even(num))   \n",
        "odd_or_even(5)"
      ],
      "execution_count": 97,
      "outputs": [
        {
          "output_type": "stream",
          "text": [
            "even\n"
          ],
          "name": "stdout"
        },
        {
          "output_type": "execute_result",
          "data": {
            "text/plain": [
              "'odd'"
            ]
          },
          "metadata": {
            "tags": []
          },
          "execution_count": 97
        }
      ]
    },
    {
      "cell_type": "code",
      "metadata": {
        "id": "RZKI9Hehl02_",
        "colab_type": "code",
        "colab": {
          "base_uri": "https://localhost:8080/",
          "height": 69
        },
        "outputId": "ade592ac-8a28-4c32-9cb3-6633a45b62fd"
      },
      "source": [
        "def sing():\n",
        "    def stop(line):\n",
        "        print(\"STOP\", line)\n",
        "    stop(\"it's hammer time\")\n",
        "    stop(\"in the name of love\")\n",
        "    stop(\"hey, what’s that sound\")\n",
        "sing()\n"
      ],
      "execution_count": 100,
      "outputs": [
        {
          "output_type": "stream",
          "text": [
            "STOP it's hammer time\n",
            "STOP in the name of love\n",
            "STOP hey, what’s that sound\n"
          ],
          "name": "stdout"
        }
      ]
    },
    {
      "cell_type": "code",
      "metadata": {
        "id": "ulF5W014mPGR",
        "colab_type": "code",
        "colab": {
          "base_uri": "https://localhost:8080/",
          "height": 121
        },
        "outputId": "317ac7ec-f9ed-4deb-9981-9b2d207a7bad"
      },
      "source": [
        "def sandwich(kind_of_sandwich):\n",
        "    print(\"--------\")\n",
        "    print(kind_of_sandwich())\n",
        "    print(\"--------\")\n",
        "def blt():\n",
        "    my_blt = \" bacon\\n lettuce\\n tomato\"\n",
        "    return my_blt\n",
        "def breakfast():\n",
        "    my_ec = \" eggegg\\n cheese\"\n",
        "    return my_ec\n",
        "print(sandwich(blt))"
      ],
      "execution_count": 101,
      "outputs": [
        {
          "output_type": "stream",
          "text": [
            "--------\n",
            " bacon\n",
            " lettuce\n",
            " tomato\n",
            "--------\n",
            "None\n"
          ],
          "name": "stdout"
        }
      ]
    },
    {
      "cell_type": "code",
      "metadata": {
        "id": "YBu1OVucmrVv",
        "colab_type": "code",
        "colab": {
          "base_uri": "https://localhost:8080/",
          "height": 173
        },
        "outputId": "d4afd0f9-d1d3-4e2e-fab3-53ce3990e636"
      },
      "source": [
        "def grumpy():\n",
        "    print(\"I am a grumpy cat:\")\n",
        "    def no_n_times(n): \n",
        "        print(\"No\", n, \"times...\")\n",
        "        def no_m_more_times(m): \n",
        "            print(\"...and no\", m, \"more times\")\n",
        "            for i in range(n+m):\n",
        "                print(\"no\")\n",
        "        return no_m_more_times\n",
        "    return no_n_times\n",
        "grumpy()(4)(2)"
      ],
      "execution_count": 102,
      "outputs": [
        {
          "output_type": "stream",
          "text": [
            "I am a grumpy cat:\n",
            "No 4 times...\n",
            "...and no 2 more times\n",
            "no\n",
            "no\n",
            "no\n",
            "no\n",
            "no\n",
            "no\n"
          ],
          "name": "stdout"
        }
      ]
    },
    {
      "cell_type": "code",
      "metadata": {
        "id": "lMWZabAkmt7V",
        "colab_type": "code",
        "colab": {
          "base_uri": "https://localhost:8080/",
          "height": 104
        },
        "outputId": "1892daef-6234-41db-a5d9-943f94d532a5"
      },
      "source": [
        "years = [1984, 1986, 1988, 1988]\n",
        "print(len(years))\n",
        "print(years.count(1988))\n",
        "print(years.count(2017))\n",
        "print(years.index(1986))\n",
        "print(years.index(1988))"
      ],
      "execution_count": 103,
      "outputs": [
        {
          "output_type": "stream",
          "text": [
            "4\n",
            "2\n",
            "0\n",
            "1\n",
            "2\n"
          ],
          "name": "stdout"
        }
      ]
    },
    {
      "cell_type": "code",
      "metadata": {
        "id": "olTry1wqmx-v",
        "colab_type": "code",
        "colab": {
          "base_uri": "https://localhost:8080/",
          "height": 69
        },
        "outputId": "88f36308-2a92-4a3e-cd7d-aa595211a980"
      },
      "source": [
        "first3letters = []\n",
        "first3letters.append(\"a\")\n",
        "first3letters.append(\"c\")\n",
        "first3letters.insert(1, \"b\")\n",
        "print(first3letters)\n",
        "last3letters = [\"x\", \"y\", \"z\"]\n",
        "first3letters.extend(last3letters)\n",
        "print(first3letters)\n",
        "last3letters.extend(first3letters)\n",
        "print(last3letters)"
      ],
      "execution_count": 104,
      "outputs": [
        {
          "output_type": "stream",
          "text": [
            "['a', 'b', 'c']\n",
            "['a', 'b', 'c', 'x', 'y', 'z']\n",
            "['x', 'y', 'z', 'a', 'b', 'c', 'x', 'y', 'z']\n"
          ],
          "name": "stdout"
        }
      ]
    },
    {
      "cell_type": "code",
      "metadata": {
        "id": "qjxm16PNm0Xd",
        "colab_type": "code",
        "colab": {
          "base_uri": "https://localhost:8080/",
          "height": 86
        },
        "outputId": "672eb773-adad-456d-b91c-42abd53d8939"
      },
      "source": [
        "polite = [\"please\", \"and\", \"thank\", \"you\"]   \n",
        "print(polite.pop())\n",
        "print(polite)\n",
        "print(polite.pop(1)) \n",
        "print(polite)"
      ],
      "execution_count": 105,
      "outputs": [
        {
          "output_type": "stream",
          "text": [
            "you\n",
            "['please', 'and', 'thank']\n",
            "and\n",
            "['please', 'thank']\n"
          ],
          "name": "stdout"
        }
      ]
    },
    {
      "cell_type": "code",
      "metadata": {
        "id": "pR10ZvrZm2TP",
        "colab_type": "code",
        "colab": {
          "base_uri": "https://localhost:8080/",
          "height": 69
        },
        "outputId": "6a45daad-c5a3-477e-b09b-4567a26c9b51"
      },
      "source": [
        "colors = [\"red\", \"blue\", \"yellow\"]\n",
        "colors[0] = \"orange\"\n",
        "print(colors)\n",
        "colors[1] = \"green\"\n",
        "print(colors)\n",
        "colors[2] = \"purple\"\n",
        "print(colors)"
      ],
      "execution_count": 106,
      "outputs": [
        {
          "output_type": "stream",
          "text": [
            "['orange', 'blue', 'yellow']\n",
            "['orange', 'green', 'yellow']\n",
            "['orange', 'green', 'purple']\n"
          ],
          "name": "stdout"
        }
      ]
    },
    {
      "cell_type": "code",
      "metadata": {
        "id": "QjjpXYhtm44C",
        "colab_type": "code",
        "colab": {
          "base_uri": "https://localhost:8080/",
          "height": 69
        },
        "outputId": "e6cbd84d-6a47-4349-87ba-051c053e0094"
      },
      "source": [
        "heights = [1.4, 1.3, 1.5, 2, 1.4, 1.5, 1]\n",
        "\n",
        "heights.reverse()  \n",
        "print(heights)\n",
        "\n",
        "heights.sort()  \n",
        "print(heights)\n",
        "\n",
        "heights.reverse()\n",
        "print(heights)"
      ],
      "execution_count": 107,
      "outputs": [
        {
          "output_type": "stream",
          "text": [
            "[1, 1.5, 1.4, 2, 1.5, 1.3, 1.4]\n",
            "[1, 1.3, 1.4, 1.4, 1.5, 1.5, 2]\n",
            "[2, 1.5, 1.5, 1.4, 1.4, 1.3, 1]\n"
          ],
          "name": "stdout"
        }
      ]
    },
    {
      "cell_type": "code",
      "metadata": {
        "id": "ZnY7vyMLm7SE",
        "colab_type": "code",
        "colab": {}
      },
      "source": [
        "L = [[], [], []]\n",
        "L[0] = [1, 2, 3]\n",
        "L[1].append('t')\n",
        "L[1].append('o')\n",
        "L[1][0] = 'd'"
      ],
      "execution_count": 0,
      "outputs": []
    },
    {
      "cell_type": "code",
      "metadata": {
        "id": "xiQrFlTpm-bO",
        "colab_type": "code",
        "colab": {}
      },
      "source": [
        "x = 'x' \n",
        "o = 'o'\n",
        "e = '_'\n",
        "board = [[x, e, o], [e, x, o], [x, e, e]]"
      ],
      "execution_count": 0,
      "outputs": []
    },
    {
      "cell_type": "code",
      "metadata": {
        "id": "n8TbKPCjnAvp",
        "colab_type": "code",
        "colab": {
          "base_uri": "https://localhost:8080/",
          "height": 34
        },
        "outputId": "960698f1-3bbb-4d36-e47a-ac78f710279b"
      },
      "source": [
        "stack = []\n",
        "cook = ['b', 'b', 'b']\n",
        "stack.extend(cook)\n",
        "stack.pop()\n",
        "stack.pop()\n",
        "cook = ['c', 'c']\n",
        "stack.extend(cook)\n",
        "stack.pop()\n",
        "cook = ['b', 'b']\n",
        "stack.extend(cook)\n",
        "stack.pop()\n",
        "stack.pop()\n",
        "stack.pop()"
      ],
      "execution_count": 111,
      "outputs": [
        {
          "output_type": "execute_result",
          "data": {
            "text/plain": [
              "'c'"
            ]
          },
          "metadata": {
            "tags": []
          },
          "execution_count": 111
        }
      ]
    },
    {
      "cell_type": "code",
      "metadata": {
        "id": "PqNQcmOZnDvl",
        "colab_type": "code",
        "colab": {
          "base_uri": "https://localhost:8080/",
          "height": 34
        },
        "outputId": "527daa21-1c87-4b7e-a65a-b3b45c77200d"
      },
      "source": [
        "line = []\n",
        "line.append('Ana')\n",
        "line.append('Bob')\n",
        "line.pop(0)\n",
        "line.append('Claire')\n",
        "line.append('Dave')\n",
        "line.pop(0)\n",
        "line.pop(0)\n",
        "line.pop(0)"
      ],
      "execution_count": 112,
      "outputs": [
        {
          "output_type": "execute_result",
          "data": {
            "text/plain": [
              "'Dave'"
            ]
          },
          "metadata": {
            "tags": []
          },
          "execution_count": 112
        }
      ]
    },
    {
      "cell_type": "code",
      "metadata": {
        "id": "j7_03P5jnGTm",
        "colab_type": "code",
        "colab": {
          "base_uri": "https://localhost:8080/",
          "height": 69
        },
        "outputId": "ed12b27f-0356-4f82-a3d2-88583f41a9d3"
      },
      "source": [
        "legs = {} \n",
        "legs[\"human\"] = 2\n",
        "legs[\"cat\"] = 4\n",
        "legs[\"snake\"] = 0\n",
        "print(len(legs))\n",
        "legs[\"cat\"] = 3\n",
        "print(len(legs))\n",
        "print(legs)"
      ],
      "execution_count": 113,
      "outputs": [
        {
          "output_type": "stream",
          "text": [
            "3\n",
            "3\n",
            "{'human': 2, 'cat': 3, 'snake': 0}\n"
          ],
          "name": "stdout"
        }
      ]
    },
    {
      "cell_type": "code",
      "metadata": {
        "id": "Kwm3QCgZnIPN",
        "colab_type": "code",
        "colab": {
          "base_uri": "https://localhost:8080/",
          "height": 34
        },
        "outputId": "c93577d4-7393-4807-a8a6-64fe412c8310"
      },
      "source": [
        "household = {\"person\":4, \"cat\":2, \"dog\":1, \"fish\":2}\n",
        "removed = household.pop(\"fish\")\n",
        "print(removed)"
      ],
      "execution_count": 114,
      "outputs": [
        {
          "output_type": "stream",
          "text": [
            "2\n"
          ],
          "name": "stdout"
        }
      ]
    },
    {
      "cell_type": "code",
      "metadata": {
        "id": "lBw2esoFnKSO",
        "colab_type": "code",
        "colab": {
          "base_uri": "https://localhost:8080/",
          "height": 173
        },
        "outputId": "da6f4d27-db76-4c2e-d071-608e213bba6d"
      },
      "source": [
        "grades = {}\n",
        "grades[\"Chris\"] = [100, 70]\n",
        "grades[\"Angela\"] = [90, 100]\n",
        "grades[\"Bruce\"] = [80, 40]\n",
        "grades[\"Stacey\"] = [70, 70]\n",
        "for student in grades.keys():\n",
        "    print(student)\n",
        "for quizzes in grades.values():\n",
        "    print(sum(quizzes)/2)\n",
        "for student in grades.keys():\n",
        "    scores = grades[student]\n",
        "    grades[student].append(sum(scores)/2)\n",
        "print(grades)"
      ],
      "execution_count": 115,
      "outputs": [
        {
          "output_type": "stream",
          "text": [
            "Chris\n",
            "Angela\n",
            "Bruce\n",
            "Stacey\n",
            "85.0\n",
            "95.0\n",
            "60.0\n",
            "70.0\n",
            "{'Chris': [100, 70, 85.0], 'Angela': [90, 100, 95.0], 'Bruce': [80, 40, 60.0], 'Stacey': [70, 70, 70.0]}\n"
          ],
          "name": "stdout"
        }
      ]
    },
    {
      "cell_type": "code",
      "metadata": {
        "id": "JJzsMLo3nMkx",
        "colab_type": "code",
        "colab": {
          "base_uri": "https://localhost:8080/",
          "height": 34
        },
        "outputId": "41f1fab2-a6e5-4f0a-8522-b3efc7a598fe"
      },
      "source": [
        "lyrics = \"Happy birthday to you Happy birthday to you \" +\\\n",
        "         \"Happy birthday dear Happy birthday to you\"\n",
        "counts = {}\n",
        "words = lyrics.split(\" \")\n",
        "for w in words:\n",
        "    w = w.lower()\n",
        "    if w not in counts:\n",
        "        counts[w] = 1\n",
        "    else:\n",
        "        counts[w] += 1\n",
        "print(counts) "
      ],
      "execution_count": 116,
      "outputs": [
        {
          "output_type": "stream",
          "text": [
            "{'happy': 4, 'birthday': 4, 'to': 3, 'you': 3, 'dear': 1}\n"
          ],
          "name": "stdout"
        }
      ]
    },
    {
      "cell_type": "code",
      "metadata": {
        "id": "D0W9qZVEnSKX",
        "colab_type": "code",
        "colab": {
          "base_uri": "https://localhost:8080/",
          "height": 69
        },
        "outputId": "7e20ba10-c172-4356-a0f3-7fb5c6ba8339"
      },
      "source": [
        "def square(x):\n",
        "    return x*x\n",
        "\n",
        "def circle(r):\n",
        "    return 3.14*r*r\n",
        "\n",
        "def equilateraltriangle(s):\n",
        "    return(s*s)*(3**0.5)/4\n",
        "\n",
        "areas = {\"sq\": square, \"ci\": circle, \"eqtri\":\n",
        "         equilateraltriangle}\n",
        "n= 2\n",
        "print(areas[\"sq\"](n))\n",
        "print(areas[\"ci\"](n))\n",
        "print(areas[\"eqtri\"](n))"
      ],
      "execution_count": 117,
      "outputs": [
        {
          "output_type": "stream",
          "text": [
            "4\n",
            "12.56\n",
            "1.7320508075688772\n"
          ],
          "name": "stdout"
        }
      ]
    },
    {
      "cell_type": "code",
      "metadata": {
        "id": "tcjXNrj5nUzj",
        "colab_type": "code",
        "colab": {
          "base_uri": "https://localhost:8080/",
          "height": 69
        },
        "outputId": "6daaa803-fc2c-4465-f0b7-ed44f7a94a6d"
      },
      "source": [
        "def add_word(d, word, definition):\n",
        "    \"\"\" d, dict that maps strings to lists of strings\n",
        "        word, a string\n",
        "        definition, a string\n",
        "        Mutates d by adding the entry word:definition\n",
        "        If word is already in d, append definition to word’s value list\n",
        "        Does not return anything\n",
        "     \"\"\"\n",
        "    if word in d:\n",
        "        d[word].append(definition)\n",
        "    else:\n",
        "        d[word] = [definition]\n",
        "\n",
        "words = {}\n",
        "add_word(words, 'box', 'fight') \n",
        "print(words)\n",
        "add_word(words, 'box', 'container')\n",
        "print(words)\n",
        "add_word(words, 'ox', 'animal') \n",
        "print(words)"
      ],
      "execution_count": 118,
      "outputs": [
        {
          "output_type": "stream",
          "text": [
            "{'box': ['fight']}\n",
            "{'box': ['fight', 'container']}\n",
            "{'box': ['fight', 'container'], 'ox': ['animal']}\n"
          ],
          "name": "stdout"
        }
      ]
    },
    {
      "cell_type": "code",
      "metadata": {
        "id": "mXfZgOaSnXuA",
        "colab_type": "code",
        "colab": {}
      },
      "source": [
        "songs = {\"Wannabe\": 1, \"Roar\": 1, \"Let It Be\": 5, \"Red Corvette\": 4}   \n",
        "for s in songs.keys():\n",
        "    if songs[s] == 1:\n",
        "        songs.pop(s)"
      ],
      "execution_count": 0,
      "outputs": []
    },
    {
      "cell_type": "code",
      "metadata": {
        "id": "uIoXhQWunlHr",
        "colab_type": "code",
        "colab": {
          "base_uri": "https://localhost:8080/",
          "height": 34
        },
        "outputId": "a0be7918-a6f9-490d-e7dd-1eb40e70ef8a"
      },
      "source": [
        "songs = [1, 1, 5, 4]\n",
        "for s in songs:\n",
        "    if s == 1: songs.pop(s)\n",
        "print(songs)"
      ],
      "execution_count": 123,
      "outputs": [
        {
          "output_type": "stream",
          "text": [
            "[1, 5, 4]\n"
          ],
          "name": "stdout"
        }
      ]
    },
    {
      "cell_type": "code",
      "metadata": {
        "id": "hmojjKhwnnm_",
        "colab_type": "code",
        "colab": {
          "base_uri": "https://localhost:8080/",
          "height": 34
        },
        "outputId": "26aefb72-eb36-4b79-d999-16857e78f94d"
      },
      "source": [
        "songs = [1, 1, 5, 4]\n",
        "songs_copy = songs.copy() \n",
        "songs = []\n",
        "for s in songs_copy:     \n",
        "    if s != 1:\n",
        "        songs.append(s) \n",
        "print(songs)"
      ],
      "execution_count": 124,
      "outputs": [
        {
          "output_type": "stream",
          "text": [
            "[5, 4]\n"
          ],
          "name": "stdout"
        }
      ]
    },
    {
      "cell_type": "code",
      "metadata": {
        "id": "BVsuCKDWnpjq",
        "colab_type": "code",
        "colab": {}
      },
      "source": [
        "class Rectangle:\n",
        "    \"\"\"\n",
        "    a rectangle object with a length and a width\n",
        "    \"\"\"\n",
        "    def __init__(self, length, width):\n",
        "        self.length = length\n",
        "        self.width = width\n",
        "    def set_length(self, length):\n",
        "        self.length = length\n",
        "    def set_width(self, width):\n",
        "        self.width = width"
      ],
      "execution_count": 0,
      "outputs": []
    },
    {
      "cell_type": "code",
      "metadata": {
        "id": "9L1ef4junsoG",
        "colab_type": "code",
        "colab": {}
      },
      "source": [
        "class Stack:\n",
        "    def __init__( self):\n",
        "        self.stack = []\n",
        "    def get_stack_elements(self):\n",
        "        return self.stack.copy()   \n",
        "    def add_one(self, item):\n",
        "        self.stack.append(item)\n",
        "    def add_many(self, item, n):\n",
        "        for i in range(n):\n",
        "            self.stack.append(item)\n",
        "    def remove_one(self):\n",
        "        self.stack.pop()\n",
        "    def remove_many(self , n):\n",
        "        for i in range(n):\n",
        "            self.stack.pop()\n",
        "    def size(self):\n",
        "        return len(self.stack)\n",
        "    def prettyprint(self):\n",
        "        for thing in self.stack[::-1]:\n",
        "            print('|_', thing, '_|')"
      ],
      "execution_count": 0,
      "outputs": []
    },
    {
      "cell_type": "code",
      "metadata": {
        "id": "NDZGeLA_nven",
        "colab_type": "code",
        "colab": {
          "base_uri": "https://localhost:8080/",
          "height": 121
        },
        "outputId": "9c2264d4-5a12-43db-c13b-9a8cf3374350"
      },
      "source": [
        "pancakes = Stack()\n",
        "pancakes.add_one(\"blueberry\")\n",
        "pancakes.add_many(\"chocolate\", 4)\n",
        "print(pancakes.size())\n",
        "pancakes.remove_one()\n",
        "print(pancakes.size())\n",
        "pancakes.prettyprint()"
      ],
      "execution_count": 127,
      "outputs": [
        {
          "output_type": "stream",
          "text": [
            "5\n",
            "4\n",
            "|_ chocolate _|\n",
            "|_ chocolate _|\n",
            "|_ chocolate _|\n",
            "|_ blueberry _|\n"
          ],
          "name": "stdout"
        }
      ]
    },
    {
      "cell_type": "code",
      "metadata": {
        "id": "TNOhAkiGn6Zv",
        "colab_type": "code",
        "colab": {}
      },
      "source": [
        "class Stack:\n",
        "    def __init__( self):\n",
        "        self.stack = []\n",
        "    def get_stack_elements(self):\n",
        "        return self.stack.copy()   \n",
        "    def add_one(self, item):\n",
        "        self.stack.append(item)\n",
        "    def add_many(self, item, n):\n",
        "        for i in range(n):\n",
        "            self.stack.append(item)\n",
        "    def remove_one(self):\n",
        "        self.stack.pop()\n",
        "    def remove_many(self , n):\n",
        "        for i in range(n):\n",
        "            self.stack.pop()\n",
        "    def size(self):\n",
        "        return len(self.stack)\n",
        "    def prettyprint(self):\n",
        "        for thing in self.stack[::-1]:\n",
        "            print('|_', thing, '_|')\n",
        "            \n",
        "\n",
        "circles = Stack()\n",
        "one_circle = Circle()\n",
        "one_circle.change_radius(2)\n",
        "circles.add_one(one_circle)\n",
        "for i in range(5):\n",
        "    one_circle = Circle()\n",
        "    one_circle.change_radius(1)\n",
        "    circles.add_one(one_circle)\n",
        "print(circles.size())\n",
        "circles.prettyprint()"
      ],
      "execution_count": 0,
      "outputs": []
    },
    {
      "cell_type": "code",
      "metadata": {
        "id": "_da1CdTHn8AH",
        "colab_type": "code",
        "colab": {}
      },
      "source": [
        "class Stack:\n",
        "    def __init__( self):\n",
        "        self.stack = []\n",
        "    def get_stack_elements(self):\n",
        "        return self.stack.copy()   \n",
        "    def add_one(self, item):\n",
        "        self.stack.append(item)\n",
        "    def add_many(self, item, n):\n",
        "        for i in range(n):\n",
        "            self.stack.append(item)\n",
        "    def remove_one(self):\n",
        "        self.stack.pop()\n",
        "    def remove_many(self , n):\n",
        "        for i in range(n):\n",
        "            self.stack.pop()\n",
        "    def size(self):\n",
        "        return len(self.stack)\n",
        "    def prettyprint(self):\n",
        "        for thing in self.stack[::-1]:\n",
        "            print('|_', thing, '_|')\n",
        "\n",
        "circles = Stack()\n",
        "one_circle = Circle()\n",
        "one_circle.change_radius(2)\n",
        "circles.add_one(one_circle)\n",
        "one_circle = Circle()\n",
        "one_circle.change_radius(1)\n",
        "circles.add_many(one_circle, 5)\n",
        "print(circles.size())\n",
        "circles.prettyprint()"
      ],
      "execution_count": 0,
      "outputs": []
    },
    {
      "cell_type": "code",
      "metadata": {
        "id": "zWwM3ayLn_J4",
        "colab_type": "code",
        "colab": {}
      },
      "source": [
        "import math \n",
        "distance = float(input(\"How far away is your friend?(m)\"))\n",
        "speed = float(input(\"How fast can you throw?(m/s)\"))\n",
        "angle_d = float(input(\"What angle do you want to throw at?(degrees)\"))\n",
        "tolerance = 2 \n",
        "angle_r = math.radians(angle_d)\n",
        "reach = 2*speed**2*math.sin(angle_r)*math.cos(angle_r)/9.8\n",
        "if (reach > distance - tolerance)and (reach < distance + tolerance):\n",
        "    print(\"Nice throw!\")\n",
        "elif reach < distance - tolerance:\n",
        "    print(\"You didn't throw far enough.\")\n",
        "else:\n",
        "    print(\"You threw too far.\")"
      ],
      "execution_count": 0,
      "outputs": []
    },
    {
      "cell_type": "code",
      "metadata": {
        "id": "b-3zRr_doLHb",
        "colab_type": "code",
        "colab": {
          "base_uri": "https://localhost:8080/",
          "height": 69
        },
        "outputId": "c0c0e1ba-90fb-4f55-da5c-683add66568e"
      },
      "source": [
        "import random\n",
        "choice = input(\"Choose rock, paper, or scissors: \")\n",
        "r = random.random()\n",
        "if r < 1/3:\n",
        "    print(\"Computer chose rock.\")\n",
        "    if choice == \"paper\":\n",
        "        print(\"You win!\")\n",
        "    elif choice == \"scissors\":\n",
        "        print(\"You lose.\")\n",
        "    else:\n",
        "        print(\"Tie.\")\n",
        "elif 1/3 <= r < 2/3:\n",
        "    print(\"Computer chose paper.\")\n",
        "    if choice == \"scissors\":\n",
        "        print(\"You win!\")\n",
        "    elif choice == \"rock\":\n",
        "        print(\"You lose.\")\n",
        "    else:\n",
        "        print(\"Tie.\")\n",
        "else: \n",
        "    print(\"Computer chose scissors.\")\n",
        "    if choice == \"rock\":\n",
        "        print(\"You win!\")\n",
        "    elif choice == \"paper\":\n",
        "        print(\"You lose.\")\n",
        "    else:\n",
        "        print(\"Tie.\")"
      ],
      "execution_count": 132,
      "outputs": [
        {
          "output_type": "stream",
          "text": [
            "Choose rock, paper, or scissors: 2\n",
            "Computer chose rock.\n",
            "Tie.\n"
          ],
          "name": "stdout"
        }
      ]
    },
    {
      "cell_type": "code",
      "metadata": {
        "id": "dbT3FV1FoQDr",
        "colab_type": "code",
        "colab": {
          "base_uri": "https://localhost:8080/",
          "height": 34
        },
        "outputId": "8423535c-14a8-4f69-a9b3-c9592d437c9a"
      },
      "source": [
        "import time\n",
        "start = time.time()\n",
        "count = 0\n",
        "for i in range(1000000):\n",
        "    count += 1\n",
        "end = time.time()\n",
        "print(end-start, \"seconds\")"
      ],
      "execution_count": 133,
      "outputs": [
        {
          "output_type": "stream",
          "text": [
            "0.09293842315673828 seconds\n"
          ],
          "name": "stdout"
        }
      ]
    },
    {
      "cell_type": "code",
      "metadata": {
        "id": "FXKtZ42RoSRt",
        "colab_type": "code",
        "colab": {}
      },
      "source": [
        "import tkinter\n",
        "window = tkinter.Tk()\n",
        "window.geometry(\"800x200\")\n",
        "window.title(\"My first GUI\")\n",
        "window.configure(background=\"grey\")\n",
        "window.mainloop()"
      ],
      "execution_count": 0,
      "outputs": []
    },
    {
      "cell_type": "code",
      "metadata": {
        "id": "Z1WrU650oUqQ",
        "colab_type": "code",
        "colab": {}
      },
      "source": [
        "import tkinter\n",
        "window = tkinter.Tk()\n",
        "window.geometry(\"800x200\")\n",
        "window.title(\"My first GUI\")\n",
        "window.configure(background=\"grey\")\n",
        "red = tkinter.Button(window, text=\"Red\", bg=\"red\")\n",
        "red.pack()\n",
        "yellow = tkinter.Button(window, text=\"Yellow\", bg=\"yellow\")\n",
        "yellow.pack()\n",
        "green = tkinter.Button(window, text=\"Green\", bg=\"green\")\n",
        "green.pack()\n",
        "textbox = tkinter.Entry(window)\n",
        "textbox.pack()\n",
        "colorlabel = tkinter.Label(window, height=\"10\", width=\"10\")\n",
        "colorlabel.pack()\n",
        "window.mainloop()"
      ],
      "execution_count": 0,
      "outputs": []
    },
    {
      "cell_type": "code",
      "metadata": {
        "id": "3rSO46oVoW4s",
        "colab_type": "code",
        "colab": {}
      },
      "source": [
        "import tkinter\n",
        "def change_color(): \n",
        "    window.configure(background=\"white\")\n",
        "window = tkinter.Tk()\n",
        "window.geometry(\"800x200\")\n",
        "window.title(\"My first GUI\")\n",
        "window.configure(background=\"grey\")\n",
        "white = tkinter.Button(window, text=\"Click\", command=change_color)\n",
        "white.pack()\n",
        "window.mainloop()"
      ],
      "execution_count": 0,
      "outputs": []
    },
    {
      "cell_type": "code",
      "metadata": {
        "id": "aoK7Vbr8oZk3",
        "colab_type": "code",
        "colab": {}
      },
      "source": [
        "import tkinter\n",
        "import time \n",
        "def countdown(): \n",
        "    countlabel.configure(background=\"white\")\n",
        "    howlong = int(textbox.get()) \n",
        "    for i in range(howlong, 0, -1):\n",
        "        countlabel.configure(text=i)\n",
        "        window.update()\n",
        "        time.sleep(1) \n",
        "    countlabel.configure(text=\"DONE!\") \n",
        "window = tkinter.Tk()\n",
        "window.geometry(\"800x600\")\n",
        "window.title(\"My first GUI\")\n",
        "window.configure(background=\"grey\")\n",
        "lbl=tkinter.Label(window,text=\"How many seconds to count down?\")\n",
        "lbl.pack()\n",
        "textbox = tkinter.Entry(window) \n",
        "textbox.pack()\n",
        "count = tkinter.Button(window, text=\"Countdown!\",command=countdown) \n",
        "count.pack()\n",
        "countlabel = tkinter.Label(window, height=\"10\", width=\"10\")\n",
        "countlabel.pack()\n",
        "window.mainloop()"
      ],
      "execution_count": 0,
      "outputs": []
    },
    {
      "cell_type": "code",
      "metadata": {
        "id": "gcC22CRmocxN",
        "colab_type": "code",
        "colab": {}
      },
      "source": [
        "import unittest\n",
        "class TestMyCode(unittest.TestCase):\n",
        "    def test_addition_2_2(self):\n",
        "        self.assertEqual(2+2, 4)\n",
        "    def test_subtraction_2_2(self):\n",
        "        self.assertNotEqual(2-2, 4)\n",
        "unittest.main()"
      ],
      "execution_count": 0,
      "outputs": []
    },
    {
      "cell_type": "code",
      "metadata": {
        "id": "GkQvmrddogSi",
        "colab_type": "code",
        "colab": {}
      },
      "source": [
        "ef is_prime(n):\n",
        "    prime = True\n",
        "    for i in range(1, n):\n",
        "        if n%i == 0:\n",
        "            prime = False\n",
        "    return prime\n",
        "def absolute_value(n):\n",
        "    if n < 0:\n",
        "        return n\n",
        "    elif n > 0:\n",
        "        return n"
      ],
      "execution_count": 0,
      "outputs": []
    },
    {
      "cell_type": "code",
      "metadata": {
        "id": "Q2vTxKKSoixx",
        "colab_type": "code",
        "colab": {}
      },
      "source": [
        "import unittest\n",
        "import funcs\n",
        "class TestPrime(unittest.TestCase):\n",
        "    def test_prime_5(self):\n",
        "        isprime = funcs.is_prime(5)\n",
        "        self.assertEqual(isprime, True)\n",
        "    def test_prime_4(self):\n",
        "        isprime = funcs.is_prime(4)\n",
        "        self.assertEqual(isprime, False)\n",
        "    def test_prime_10000(self):\n",
        "        isprime = funcs.is_prime(10000)\n",
        "        self.assertEqual(isprime, False)\n",
        "class TestAbs(unittest.TestCase):\n",
        "    def test_abs_5(self):\n",
        "        absolute = funcs.absolute_value(5)\n",
        "        self.assertEqual(absolute, 5)\n",
        "    def test_abs_neg5(self):\n",
        "        absolute = funcs.absolute_value(-5)\n",
        "        self.assertEqual(absolute, 5)\n",
        "    def test_abs_0(self):\n",
        "        absolute = funcs.absolute_value(0)\n",
        "        self.assertEqual(absolute, 0)\n",
        "unittest.main()      "
      ],
      "execution_count": 0,
      "outputs": []
    },
    {
      "cell_type": "code",
      "metadata": {
        "id": "pFBDeBhIolVE",
        "colab_type": "code",
        "colab": {}
      },
      "source": [
        "class Fraction:\n",
        "    def __init__(self, top, bottom):\n",
        "        self.top = top \n",
        "        self.bottom = bottom\n",
        "    def __add__(self, other_fraction):\n",
        "        new_top = self.top*other_fraction.bottom + \\ self.bottom*other_fraction.top\n",
        "        new_bottom = self.bottom*other_fraction.bottom\n",
        "        return Fraction(new_top, new_bottom)\n",
        "    def __mul__(self, other_fraction):\n",
        "        new_top = self.top*other_fraction.top\n",
        "        new_bottom = self.bottom*other_fraction.bottom\n",
        "        return Fraction(new_top, new_bottom)"
      ],
      "execution_count": 0,
      "outputs": []
    },
    {
      "cell_type": "code",
      "metadata": {
        "id": "0LOaK83conuF",
        "colab_type": "code",
        "colab": {}
      },
      "source": [
        "class Fraction:\n",
        "    def __init__(self, top, bottom):\n",
        "        self.top = top \n",
        "        self.bottom = bottom\n",
        "    def __add__(self, other_fraction):\n",
        "        new_top = self.top*other_fraction.bottom + \\ self.bottom*other_fraction.top\n",
        "        new_bottom = self.bottom*other_fraction.bottom\n",
        "        return Fraction(new_top, new_bottom)\n",
        "    def __mul__(self, other_fraction):\n",
        "        new_top = self.top*other_fraction.top\n",
        "        new_bottom = self.bottom*other_fraction.bottom\n",
        "        return Fraction(new_top, new_bottom)\n",
        "    def __str__(self):\n",
        "        return str(self.top)+\"/\"+str(self.bottom)\n",
        "        "
      ],
      "execution_count": 0,
      "outputs": []
    }
  ]
}