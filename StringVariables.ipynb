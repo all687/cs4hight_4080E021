{
  "nbformat": 4,
  "nbformat_minor": 0,
  "metadata": {
    "colab": {
      "name": "StringVariables.ipynb",
      "provenance": [],
      "include_colab_link": true
    },
    "kernelspec": {
      "name": "python3",
      "display_name": "Python 3"
    }
  },
  "cells": [
    {
      "cell_type": "markdown",
      "metadata": {
        "id": "view-in-github",
        "colab_type": "text"
      },
      "source": [
        "<a href=\"https://colab.research.google.com/github/all687/cs4hight_4080E021/blob/master/StringVariables.ipynb\" target=\"_parent\"><img src=\"https://colab.research.google.com/assets/colab-badge.svg\" alt=\"Open In Colab\"/></a>"
      ]
    },
    {
      "cell_type": "code",
      "metadata": {
        "id": "p_ojax-MJRwc",
        "colab_type": "code",
        "colab": {
          "base_uri": "https://localhost:8080/",
          "height": 34
        },
        "outputId": "4a583b01-b938-4b03-c13d-d8be2eee8300"
      },
      "source": [
        "first_name = 'Susan'\n",
        "print(first_name)\n"
      ],
      "execution_count": 1,
      "outputs": [
        {
          "output_type": "stream",
          "text": [
            "Susan\n"
          ],
          "name": "stdout"
        }
      ]
    },
    {
      "cell_type": "code",
      "metadata": {
        "id": "FqE2W9WBJsus",
        "colab_type": "code",
        "colab": {
          "base_uri": "https://localhost:8080/",
          "height": 51
        },
        "outputId": "17ecc4a1-9c01-43b1-c1d9-9791656fa9a8"
      },
      "source": [
        "first_name = 'Susan'\n",
        "last_name = 'Ibach'\n",
        "print(first_name + last_name)\n",
        "print('Hello ' + first_name + ' ' + last_name)\n"
      ],
      "execution_count": 2,
      "outputs": [
        {
          "output_type": "stream",
          "text": [
            "SusanIbach\n",
            "Hello Susan Ibach\n"
          ],
          "name": "stdout"
        }
      ]
    },
    {
      "cell_type": "code",
      "metadata": {
        "id": "gwfMJLVmJtEK",
        "colab_type": "code",
        "colab": {
          "base_uri": "https://localhost:8080/",
          "height": 85
        },
        "outputId": "100f75ac-675f-48b0-89aa-708e79308c0b"
      },
      "source": [
        "sentence = 'The dog is named Sammy'\n",
        "print(sentence.upper())\n",
        "print(sentence.lower())\n",
        "print(sentence.capitalize())\n",
        "print(sentence.count('a'))\n"
      ],
      "execution_count": 3,
      "outputs": [
        {
          "output_type": "stream",
          "text": [
            "THE DOG IS NAMED SAMMY\n",
            "the dog is named sammy\n",
            "The dog is named sammy\n",
            "2\n"
          ],
          "name": "stdout"
        }
      ]
    },
    {
      "cell_type": "code",
      "metadata": {
        "id": "rB_stc5qLDAW",
        "colab_type": "code",
        "colab": {
          "base_uri": "https://localhost:8080/",
          "height": 68
        },
        "outputId": "b7844501-f236-4d1f-cab0-b182f9065ff1"
      },
      "source": [
        "first_name = input('What is your first name? ')\n",
        "last_name = input('What is your last name? ')\n",
        "print ('Hello ' + first_name.capitalize() + ' ' \\\n",
        "       + last_name.capitalize())\n"
      ],
      "execution_count": 4,
      "outputs": [
        {
          "output_type": "stream",
          "text": [
            "What is your first name? G\n",
            "What is your last name? 8MAN\n",
            "Hello G 8man\n"
          ],
          "name": "stdout"
        }
      ]
    }
  ]
}